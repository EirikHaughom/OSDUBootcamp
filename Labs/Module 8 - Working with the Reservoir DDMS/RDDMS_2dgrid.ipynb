{
 "cells": [
  {
   "cell_type": "code",
   "execution_count": null,
   "id": "7a53beac",
   "metadata": {
    "gather": {
     "logged": 1680267415996
    }
   },
   "outputs": [],
   "source": [
    "#RDDMS demo via Rest-APIs \n",
    "#documented in the SWAGGER pages\n",
    "#http://10.0.1.4:8003/Reservoir/v2#/Resources/"
   ]
  },
  {
   "cell_type": "code",
   "execution_count": null,
   "id": "3b3565a4",
   "metadata": {
    "gather": {
     "logged": 1680267481738
    }
   },
   "outputs": [],
   "source": [
    "#Libs needed\n",
    "!pip install requests\n",
    "!pip install pandas\n",
    "!pip install --upgrade matplotlib"
   ]
  },
  {
   "cell_type": "code",
   "execution_count": null,
   "id": "9e9e2a2b",
   "metadata": {
    "gather": {
     "logged": 1680267481995
    }
   },
   "outputs": [],
   "source": [
    "import requests\n",
    "import json\n",
    "import urllib.parse\n",
    "import pandas as pd\n",
    "import numpy as np"
   ]
  },
  {
   "cell_type": "code",
   "execution_count": null,
   "id": "29cdeac1",
   "metadata": {
    "gather": {
     "logged": 1680267486761
    }
   },
   "outputs": [],
   "source": [
    "# Copy your az bearer token here:\n",
    "bearen_key = 'eyJ0eXAiOiJKV1QiLCJhbGciOiJSUzI1NiIsIng1dCI6Ii1LSTNROW5OUjdiUm9meG1lWm9YcWJIWkdldyIsImtpZCI6Ii1LSTNROW5OUjdiUm9meG1lWm9YcWJIWkdldyJ9.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.kfMAAzi5BsRSZlmgxnbFepOCkFH61ePwLXK_PoBiI1IEd9sFRcW4k5u3o_6-LxRFGaDrtsIK7j5vxPVhbFCtUfWVTtggKOoaiVclPflhzIUYrH3OpeFhSdECpR3bDS3WR-pW5bmn7dWEiWOok56yPKFKdfICSmy9a1aEce-WfFcjrmW6m7sTf89efvZcR_piu3kS9p43XhJabbT5xQh84Jz3dV_hO270Pegm8kk1nDEZYUPHmhc6Nbuy8Z9sXpjTit8XXFZaraH0wb0908aMrEQ8SwCHvmFz_Tz8iGkVOYVxfkZz6I8GqTT16uhS9oF97h_YfQwvdJxBdO8ZoEM54w'\n",
    "\n",
    "RESERVOIR_DDMS_HOST = 'http://osdubootcamp.azure-api.net/reservoir/v2'\n",
    "\n",
    "#headers = {\n",
    "#    'accept': 'application/json',\n",
    "#}\n",
    "#response = requests.get(RESERVOIR_DDMS_HOST+'/auth/token', headers=headers)\n",
    "#response.json()['token']\n",
    "#print('Bearer Token:',bearen_key)"
   ]
  },
  {
   "cell_type": "code",
   "execution_count": null,
   "id": "4d6a8e0a",
   "metadata": {
    "gather": {
     "logged": 1680267486798
    }
   },
   "outputs": [],
   "source": [
    "#List the available data space(s)"
   ]
  },
  {
   "cell_type": "code",
   "execution_count": null,
   "id": "bbaf22af",
   "metadata": {
    "gather": {
     "logged": 1680267486817
    }
   },
   "outputs": [],
   "source": [
    "headers = {\n",
    "    'accept': 'application/json',\n",
    "    'Authorization': f'Bearer {bearen_key}'\n",
    "}\n",
    "\n",
    "params = {\n",
    "    '$skip': '0',\n",
    "    '$top': '30',\n",
    "}\n",
    "\n",
    "response = requests.get(RESERVOIR_DDMS_HOST+'/dataspaces', params=params, headers=headers)"
   ]
  },
  {
   "cell_type": "code",
   "execution_count": null,
   "id": "46532b3b",
   "metadata": {
    "gather": {
     "logged": 1680267486848
    }
   },
   "outputs": [],
   "source": [
    "print(*response, sep='\\n')\n",
    "print('-----------------')\n",
    "\n",
    "SelectedDataspace = 0\n",
    "\n",
    "#You need to URL encode the namespace\n",
    "print('Dataspace name:', response.json()[SelectedDataspace]['path'])\n",
    "dataspace_name = urllib.parse.quote(response.json()[SelectedDataspace]['path'], safe=\"\")\n",
    "print('URL encoded namespace:',dataspace_name)"
   ]
  },
  {
   "cell_type": "code",
   "execution_count": null,
   "id": "93c4bd4c",
   "metadata": {
    "gather": {
     "logged": 1680267486874
    }
   },
   "outputs": [],
   "source": [
    "headers = {\n",
    "    'accept': 'application/json',\n",
    "    'Authorization': f'Bearer {bearen_key}'\n",
    "}\n",
    "\n",
    "response = requests.get(f'{RESERVOIR_DDMS_HOST}/dataspaces/{dataspace_name}/resources', headers=headers)"
   ]
  },
  {
   "cell_type": "code",
   "execution_count": null,
   "id": "5245b5c6",
   "metadata": {
    "gather": {
     "logged": 1680267486892
    }
   },
   "outputs": [],
   "source": [
    "#print(json.dumps(response.json(),indent=4))\n",
    "response_flat = pd.json_normalize(response.json()).to_dict(orient='records')\n",
    "response_df = pd.DataFrame.from_dict(response_flat)\n",
    "print(response_df)"
   ]
  },
  {
   "cell_type": "code",
   "execution_count": null,
   "id": "50b0236a",
   "metadata": {
    "gather": {
     "logged": 1680267486917
    }
   },
   "outputs": [],
   "source": [
    "# List all object given an object type"
   ]
  },
  {
   "cell_type": "code",
   "execution_count": null,
   "id": "2856bb3b",
   "metadata": {
    "gather": {
     "logged": 1680267486940
    }
   },
   "outputs": [],
   "source": [
    "response = requests.get(\n",
    "    f'{RESERVOIR_DDMS_HOST}/dataspaces/{dataspace_name}/resources/resqml20.obj_Grid2dRepresentation',\n",
    "    params=params,\n",
    "    headers=headers,\n",
    ")"
   ]
  },
  {
   "cell_type": "code",
   "execution_count": null,
   "id": "29edd30f",
   "metadata": {
    "gather": {
     "logged": 1680267486970
    },
    "scrolled": true
   },
   "outputs": [],
   "source": [
    "print(json.dumps(response.json(),indent=4))"
   ]
  },
  {
   "cell_type": "code",
   "execution_count": null,
   "id": "d0f12366",
   "metadata": {
    "gather": {
     "logged": 1680267486994
    }
   },
   "outputs": [],
   "source": [
    "SelectedSurface =  0 # fisrt and only object in dataspace\n",
    "uuid = urllib.parse.quote(response.json()[SelectedSurface]['uri'].split('(')[-1].replace(')','')) \n",
    "\n",
    "print('uuid:', uuid)"
   ]
  },
  {
   "cell_type": "code",
   "execution_count": null,
   "id": "2ffa7e6a",
   "metadata": {
    "gather": {
     "logged": 1680267487012
    }
   },
   "outputs": [],
   "source": [
    "print(json.dumps(response.json(),indent=4))\n",
    "response_flat = pd.json_normalize(response.json()).to_dict(orient='records')\n",
    "response_df = pd.DataFrame.from_dict(response_flat)\n",
    "print(response_df)"
   ]
  },
  {
   "cell_type": "code",
   "execution_count": null,
   "id": "33bf5a1c",
   "metadata": {
    "gather": {
     "logged": 1680267487032
    }
   },
   "outputs": [],
   "source": [
    "#response_df['uri']"
   ]
  },
  {
   "cell_type": "code",
   "execution_count": null,
   "id": "4f2764c2",
   "metadata": {
    "gather": {
     "logged": 1680267487049
    }
   },
   "outputs": [],
   "source": [
    "headers = {\n",
    "    'accept': 'application/x-resqml+xml',\n",
    "    'Authorization': f'Bearer {bearen_key}'\n",
    "}\n",
    "\n",
    "params = {\n",
    "    '$format': 'json',\n",
    "    'arrayMetadata': 'false',\n",
    "    'arrayValues': 'false',\n",
    "    'referencedContent': 'true',\n",
    "}\n",
    "\n",
    "response = requests.get(\n",
    "    f'{RESERVOIR_DDMS_HOST}/dataspaces/{dataspace_name}/resources/resqml20.obj_Grid2dRepresentation/{uuid}',\n",
    "    params=params,\n",
    "    headers=headers,\n",
    ")\n",
    "print(json.dumps(response.json(),indent=4))"
   ]
  },
  {
   "cell_type": "code",
   "execution_count": null,
   "id": "ad4a81ee",
   "metadata": {
    "gather": {
     "logged": 1680267487071
    }
   },
   "outputs": [],
   "source": [
    "headers = {\n",
    "    'accept': 'application/x-resqml+xml',\n",
    "    'Authorization': f'Bearer {bearen_key}'\n",
    "}\n",
    "\n",
    "params = {\n",
    "    '$format': 'json',\n",
    "    'arrayMetadata': 'false',\n",
    "    'arrayValues': 'false',\n",
    "    'referencedContent': 'true',\n",
    "}\n",
    "\n",
    "\n",
    "response = requests.get(\n",
    "    f'{RESERVOIR_DDMS_HOST}/dataspaces/{dataspace_name}/resources/resqml20.obj_Grid2dRepresentation/{uuid}/arrays',\n",
    "    params=params,\n",
    "    headers=headers,\n",
    ")\n",
    "print(json.dumps(response.json(),indent=4))"
   ]
  },
  {
   "cell_type": "code",
   "execution_count": null,
   "id": "84e92450",
   "metadata": {
    "gather": {
     "logged": 1680267487092
    }
   },
   "outputs": [],
   "source": [
    "uuid_url = urllib.parse.quote(response.json()[0]['uid']['pathInResource'], safe=\"\")\n",
    "print('uuid_url:', uuid_url)"
   ]
  },
  {
   "cell_type": "code",
   "execution_count": null,
   "id": "e910246f",
   "metadata": {
    "gather": {
     "logged": 1680267487113
    }
   },
   "outputs": [],
   "source": [
    "headers = {\n",
    "    'accept': 'application/json',\n",
    "    'Authorization': f'Bearer {bearen_key}'\n",
    "    }\n",
    "\n",
    "params = {\n",
    "    'format': 'json'\n",
    "}\n",
    "\n",
    "response = requests.get(\n",
    "    f'{RESERVOIR_DDMS_HOST}/dataspaces/{dataspace_name}/resources/resqml20.obj_Grid2dRepresentation/{uuid}/arrays/{uuid_url}',\n",
    "    params=params,\n",
    "    headers=headers,\n",
    ")"
   ]
  },
  {
   "cell_type": "code",
   "execution_count": null,
   "id": "2be60b26",
   "metadata": {
    "gather": {
     "logged": 1680267487130
    }
   },
   "outputs": [],
   "source": [
    "print(response.text)"
   ]
  },
  {
   "cell_type": "code",
   "execution_count": null,
   "id": "75f89697",
   "metadata": {
    "gather": {
     "logged": 1680267487147
    },
    "scrolled": true
   },
   "outputs": [],
   "source": [
    "print('Data length:',len(response.json()['data']['data']))\n",
    "print('Dimensions:',response.json()['data']['dimensions'])\n",
    "assert len(response.json()['data']['data']) == ( int(response.json()['data']['dimensions'][0]) * int(response.json()['data']['dimensions'][1]) )"
   ]
  },
  {
   "cell_type": "code",
   "execution_count": null,
   "id": "113b0598",
   "metadata": {
    "gather": {
     "logged": 1680267487167
    }
   },
   "outputs": [],
   "source": [
    "xy_array = np.reshape(response.json()['data']['data'], (int(response.json()['data']['dimensions'][0]), int(response.json()['data']['dimensions'][1]))).T"
   ]
  },
  {
   "cell_type": "code",
   "execution_count": null,
   "id": "00eb4574",
   "metadata": {
    "gather": {
     "logged": 1680267487196
    }
   },
   "outputs": [],
   "source": [
    "len(xy_array[:,:])"
   ]
  },
  {
   "cell_type": "code",
   "execution_count": null,
   "id": "55b246e3",
   "metadata": {
    "gather": {
     "logged": 1680267487212
    }
   },
   "outputs": [],
   "source": [
    "z = np.array(response.json()['data']['data'], dtype=np.float32)\n",
    "z_array = np.reshape(z, (int(response.json()['data']['dimensions'][0]), int(response.json()['data']['dimensions'][1])))\n",
    "print(xy_array.shape)"
   ]
  },
  {
   "cell_type": "code",
   "execution_count": null,
   "id": "f026455f",
   "metadata": {
    "gather": {
     "logged": 1680267487251
    }
   },
   "outputs": [],
   "source": [
    "#https://matplotlib.org/stable/gallery/mplot3d/custom_shaded_3d_surface.html#sphx-glr-gallery-mplot3d-custom-shaded-3d-surface-py\n",
    "from matplotlib import cbook\n",
    "from matplotlib import cm\n",
    "from matplotlib.colors import LightSource\n",
    "import matplotlib.pyplot as plt\n",
    "import numpy as np\n",
    "\n",
    "z = z_array\n",
    "nrows, ncols = z.shape\n",
    "print(nrows, ncols)\n",
    "x = np.linspace(0, 5, ncols)\n",
    "y = np.linspace(0, 5, nrows)\n",
    "x, y = np.meshgrid(x, y)\n",
    "\n",
    "fig, ax = plt.subplots(subplot_kw=dict(projection='3d'))\n",
    "surf = ax.plot_surface(x, y, z)\n",
    "\n",
    "plt.show()"
   ]
  },
  {
   "cell_type": "code",
   "execution_count": null,
   "id": "a6daa0ef",
   "metadata": {},
   "outputs": [],
   "source": []
  },
  {
   "cell_type": "code",
   "execution_count": null,
   "id": "027090f0",
   "metadata": {},
   "outputs": [],
   "source": []
  },
  {
   "cell_type": "code",
   "execution_count": null,
   "id": "27a8216a",
   "metadata": {},
   "outputs": [],
   "source": []
  },
  {
   "cell_type": "code",
   "execution_count": null,
   "id": "98948230",
   "metadata": {},
   "outputs": [],
   "source": []
  },
  {
   "cell_type": "code",
   "execution_count": null,
   "id": "4190fcd9",
   "metadata": {},
   "outputs": [],
   "source": []
  }
 ],
 "metadata": {
  "kernel_info": {
   "name": "python310-sdkv2"
  },
  "kernelspec": {
   "display_name": "Python 3 (ipykernel)",
   "language": "python",
   "name": "python3"
  },
  "language_info": {
   "codemirror_mode": {
    "name": "ipython",
    "version": 3
   },
   "file_extension": ".py",
   "mimetype": "text/x-python",
   "name": "python",
   "nbconvert_exporter": "python",
   "pygments_lexer": "ipython3",
   "version": "3.9.13"
  },
  "microsoft": {
   "ms_spell_check": {
    "ms_spell_check_language": "en"
   }
  },
  "nteract": {
   "version": "nteract-front-end@1.0.0"
  }
 },
 "nbformat": 4,
 "nbformat_minor": 5
}
