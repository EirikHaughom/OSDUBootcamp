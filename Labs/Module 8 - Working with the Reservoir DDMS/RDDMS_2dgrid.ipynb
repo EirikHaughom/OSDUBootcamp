{
 "cells": [
  {
   "cell_type": "code",
   "execution_count": null,
   "id": "7a53beac",
   "metadata": {
    "gather": {
     "logged": 1680267415996
    }
   },
   "outputs": [],
   "source": [
    "#RDDMS demo via Rest-APIs \n",
    "#documented in the SWAGGER pages\n",
    "#http://10.0.1.4:8003/Reservoir/v2#/Resources/"
   ]
  },
  {
   "cell_type": "code",
   "execution_count": null,
   "id": "3b3565a4",
   "metadata": {
    "gather": {
     "logged": 1680267481738
    }
   },
   "outputs": [],
   "source": [
    "#Libs needed\n",
    "!pip install requests\n",
    "!pip install pandas\n",
    "!pip install --upgrade matplotlib"
   ]
  },
  {
   "cell_type": "code",
   "execution_count": null,
   "id": "9e9e2a2b",
   "metadata": {
    "gather": {
     "logged": 1680267481995
    }
   },
   "outputs": [],
   "source": [
    "import requests\n",
    "import json\n",
    "import urllib.parse\n",
    "import pandas as pd\n",
    "import numpy as np"
   ]
  },
  {
   "cell_type": "code",
   "execution_count": null,
   "id": "29cdeac1",
   "metadata": {
    "gather": {
     "logged": 1680267486761
    }
   },
   "outputs": [],
   "source": [
    "# Copy your az bearer token to variable bearer_key: PS F:\\> az account get-access-token \n",
    "\n",
    "bearer_key = ''\n",
    "\n",
    "RESERVOIR_DDMS_HOST = 'http://osdubootcamp.azure-api.net/reservoir/v2'\n",
    "\n",
    "#headers = {\n",
    "#    'accept': 'application/json',\n",
    "#}\n",
    "#response = requests.get(RESERVOIR_DDMS_HOST+'/auth/token', headers=headers)\n",
    "#response.json()['token']\n"
   ]
  },
  {
   "cell_type": "code",
   "execution_count": null,
   "id": "4d6a8e0a",
   "metadata": {
    "gather": {
     "logged": 1680267486798
    }
   },
   "outputs": [],
   "source": [
    "#List the available data space(s)"
   ]
  },
  {
   "cell_type": "code",
   "execution_count": null,
   "id": "bbaf22af",
   "metadata": {
    "gather": {
     "logged": 1680267486817
    }
   },
   "outputs": [],
   "source": [
    "headers = {\n",
    "    'accept': 'application/json',\n",
    "    'Authorization': f'Bearer {bearer_key}'\n",
    "}\n",
    "\n",
    "params = {\n",
    "    '$skip': '0',\n",
    "    '$top': '30',\n",
    "}\n",
    "\n",
    "response = requests.get(RESERVOIR_DDMS_HOST+'/dataspaces', params=params, headers=headers)"
   ]
  },
  {
   "cell_type": "code",
   "execution_count": null,
   "id": "46532b3b",
   "metadata": {
    "gather": {
     "logged": 1680267486848
    },
    "scrolled": true
   },
   "outputs": [],
   "source": [
    "print(*response, sep='\\n')\n",
    "print('-----------------')\n",
    "\n",
    "SelectedDataspace = 0\n",
    "\n",
    "#You need to URL encode the namespace\n",
    "print('Dataspace name:', response.json()[SelectedDataspace]['path'])\n",
    "dataspace_name = urllib.parse.quote(response.json()[SelectedDataspace]['path'], safe=\"\")\n",
    "print('URL encoded namespace:',dataspace_name)"
   ]
  },
  {
   "cell_type": "code",
   "execution_count": null,
   "id": "93c4bd4c",
   "metadata": {
    "gather": {
     "logged": 1680267486874
    }
   },
   "outputs": [],
   "source": [
    "headers = {\n",
    "    'accept': 'application/json',\n",
    "    'Authorization': f'Bearer {bearer_key}'\n",
    "}\n",
    "\n",
    "response = requests.get(f'{RESERVOIR_DDMS_HOST}/dataspaces/{dataspace_name}/resources', headers=headers)"
   ]
  },
  {
   "cell_type": "code",
   "execution_count": null,
   "id": "5245b5c6",
   "metadata": {
    "gather": {
     "logged": 1680267486892
    }
   },
   "outputs": [],
   "source": [
    "#print(json.dumps(response.json(),indent=4))\n",
    "response_flat = pd.json_normalize(response.json()).to_dict(orient='records')\n",
    "response_df = pd.DataFrame.from_dict(response_flat)\n",
    "print(response_df)"
   ]
  },
  {
   "cell_type": "code",
   "execution_count": null,
   "id": "50b0236a",
   "metadata": {
    "gather": {
     "logged": 1680267486917
    }
   },
   "outputs": [],
   "source": [
    "# List all object given an object type"
   ]
  },
  {
   "cell_type": "code",
   "execution_count": null,
   "id": "2856bb3b",
   "metadata": {
    "gather": {
     "logged": 1680267486940
    }
   },
   "outputs": [],
   "source": [
    "response = requests.get(\n",
    "    f'{RESERVOIR_DDMS_HOST}/dataspaces/{dataspace_name}/resources/resqml20.obj_Grid2dRepresentation',\n",
    "    params=params,\n",
    "    headers=headers,\n",
    ")"
   ]
  },
  {
   "cell_type": "code",
   "execution_count": null,
   "id": "29edd30f",
   "metadata": {
    "gather": {
     "logged": 1680267486970
    },
    "scrolled": true
   },
   "outputs": [],
   "source": [
    "print(json.dumps(response.json(),indent=4))"
   ]
  },
  {
   "cell_type": "code",
   "execution_count": null,
   "id": "d0f12366",
   "metadata": {
    "gather": {
     "logged": 1680267486994
    }
   },
   "outputs": [],
   "source": [
    "SelectedSurface =  0 # fisrt and only object in dataspace\n",
    "uuid = urllib.parse.quote(response.json()[SelectedSurface]['uri'].split('(')[-1].replace(')','')) \n",
    "\n",
    "print('uuid:', uuid)"
   ]
  },
  {
   "cell_type": "code",
   "execution_count": null,
   "id": "2ffa7e6a",
   "metadata": {
    "gather": {
     "logged": 1680267487012
    }
   },
   "outputs": [],
   "source": [
    "print(json.dumps(response.json(),indent=4))\n",
    "response_flat = pd.json_normalize(response.json()).to_dict(orient='records')\n",
    "response_df = pd.DataFrame.from_dict(response_flat)\n",
    "print(response_df)"
   ]
  },
  {
   "cell_type": "code",
   "execution_count": null,
   "id": "4f2764c2",
   "metadata": {
    "gather": {
     "logged": 1680267487049
    }
   },
   "outputs": [],
   "source": [
    "headers = {\n",
    "    'accept': 'application/x-resqml+xml',\n",
    "    'Authorization': f'Bearer {bearer_key}'\n",
    "}\n",
    "\n",
    "params = {\n",
    "    '$format': 'json',\n",
    "    'arrayMetadata': 'false',\n",
    "    'arrayValues': 'false',\n",
    "    'referencedContent': 'true',\n",
    "}\n",
    "\n",
    "response = requests.get(\n",
    "    f'{RESERVOIR_DDMS_HOST}/dataspaces/{dataspace_name}/resources/resqml20.obj_Grid2dRepresentation/{uuid}',\n",
    "    params=params,\n",
    "    headers=headers,\n",
    ")\n",
    "print(json.dumps(response.json(),indent=4))"
   ]
  },
  {
   "cell_type": "code",
   "execution_count": null,
   "id": "ad4a81ee",
   "metadata": {
    "gather": {
     "logged": 1680267487071
    }
   },
   "outputs": [],
   "source": [
    "headers = {\n",
    "    'accept': 'application/x-resqml+xml',\n",
    "    'Authorization': f'Bearer {bearer_key}'\n",
    "}\n",
    "\n",
    "params = {\n",
    "    '$format': 'json',\n",
    "    'arrayMetadata': 'false',\n",
    "    'arrayValues': 'false',\n",
    "    'referencedContent': 'true',\n",
    "}\n",
    "\n",
    "\n",
    "response = requests.get(\n",
    "    f'{RESERVOIR_DDMS_HOST}/dataspaces/{dataspace_name}/resources/resqml20.obj_Grid2dRepresentation/{uuid}/arrays',\n",
    "    params=params,\n",
    "    headers=headers,\n",
    ")\n",
    "print(json.dumps(response.json(),indent=4))"
   ]
  },
  {
   "cell_type": "code",
   "execution_count": null,
   "id": "84e92450",
   "metadata": {
    "gather": {
     "logged": 1680267487092
    }
   },
   "outputs": [],
   "source": [
    "uuid_url = urllib.parse.quote(response.json()[0]['uid']['pathInResource'], safe=\"\")\n",
    "print('uuid_url:', uuid_url)"
   ]
  },
  {
   "cell_type": "code",
   "execution_count": null,
   "id": "e910246f",
   "metadata": {
    "gather": {
     "logged": 1680267487113
    }
   },
   "outputs": [],
   "source": [
    "headers = {\n",
    "    'accept': 'application/json',\n",
    "    'Authorization': f'Bearer {bearer_key}'\n",
    "    }\n",
    "\n",
    "params = {\n",
    "    'format': 'json'\n",
    "}\n",
    "\n",
    "response = requests.get(\n",
    "    f'{RESERVOIR_DDMS_HOST}/dataspaces/{dataspace_name}/resources/resqml20.obj_Grid2dRepresentation/{uuid}/arrays/{uuid_url}',\n",
    "    params=params,\n",
    "    headers=headers,\n",
    ")"
   ]
  },
  {
   "cell_type": "code",
   "execution_count": null,
   "id": "2be60b26",
   "metadata": {
    "gather": {
     "logged": 1680267487130
    }
   },
   "outputs": [],
   "source": [
    "print(response.text)"
   ]
  },
  {
   "cell_type": "code",
   "execution_count": null,
   "id": "75f89697",
   "metadata": {
    "gather": {
     "logged": 1680267487147
    },
    "scrolled": true
   },
   "outputs": [],
   "source": [
    "print('Data length:',len(response.json()['data']['data']))\n",
    "print('Dimensions:',response.json()['data']['dimensions'])\n",
    "assert len(response.json()['data']['data']) == ( int(response.json()['data']['dimensions'][0]) * int(response.json()['data']['dimensions'][1]) )"
   ]
  },
  {
   "cell_type": "code",
   "execution_count": null,
   "id": "113b0598",
   "metadata": {
    "gather": {
     "logged": 1680267487167
    }
   },
   "outputs": [],
   "source": [
    "xy_array = np.reshape(response.json()['data']['data'], (int(response.json()['data']['dimensions'][0]), int(response.json()['data']['dimensions'][1]))).T"
   ]
  },
  {
   "cell_type": "code",
   "execution_count": null,
   "id": "00eb4574",
   "metadata": {
    "gather": {
     "logged": 1680267487196
    }
   },
   "outputs": [],
   "source": [
    "len(xy_array[:,:])"
   ]
  },
  {
   "cell_type": "code",
   "execution_count": null,
   "id": "55b246e3",
   "metadata": {
    "gather": {
     "logged": 1680267487212
    }
   },
   "outputs": [],
   "source": [
    "z = np.array(response.json()['data']['data'], dtype=np.float32)\n",
    "z_array = np.reshape(z, (int(response.json()['data']['dimensions'][0]), int(response.json()['data']['dimensions'][1])))\n",
    "print(xy_array.shape)"
   ]
  },
  {
   "cell_type": "code",
   "execution_count": null,
   "id": "f026455f",
   "metadata": {
    "gather": {
     "logged": 1680267487251
    }
   },
   "outputs": [],
   "source": [
    "#https://matplotlib.org/stable/gallery/mplot3d/custom_shaded_3d_surface.html#sphx-glr-gallery-mplot3d-custom-shaded-3d-surface-py\n",
    "from matplotlib import cbook\n",
    "from matplotlib import cm\n",
    "from matplotlib.colors import LightSource\n",
    "import matplotlib.pyplot as plt\n",
    "import numpy as np\n",
    "\n",
    "z = z_array\n",
    "nrows, ncols = z.shape\n",
    "print(nrows, ncols)\n",
    "x = np.linspace(0, 5, ncols)\n",
    "y = np.linspace(0, 5, nrows)\n",
    "x, y = np.meshgrid(x, y)\n",
    "\n",
    "fig, ax = plt.subplots(subplot_kw=dict(projection='3d'))\n",
    "surf = ax.plot_surface(x, y, z)\n",
    "\n",
    "plt.show()"
   ]
  }
 ],
 "metadata": {
  "kernel_info": {
   "name": "python310-sdkv2"
  },
  "kernelspec": {
   "display_name": "Python 3 (ipykernel)",
   "language": "python",
   "name": "python3"
  },
  "language_info": {
   "codemirror_mode": {
    "name": "ipython",
    "version": 3
   },
   "file_extension": ".py",
   "mimetype": "text/x-python",
   "name": "python",
   "nbconvert_exporter": "python",
   "pygments_lexer": "ipython3",
   "version": "3.9.13"
  },
  "microsoft": {
   "ms_spell_check": {
    "ms_spell_check_language": "en"
   }
  },
  "nteract": {
   "version": "nteract-front-end@1.0.0"
  }
 },
 "nbformat": 4,
 "nbformat_minor": 5
}
